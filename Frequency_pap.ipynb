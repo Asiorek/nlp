{
 "cells": [
  {
   "cell_type": "code",
   "execution_count": 1,
   "metadata": {
    "collapsed": true
   },
   "outputs": [],
   "source": [
    "# -*- coding: utf-8 -*-\n",
    "import codecs\n",
    "import re\n",
    "import sys\n",
    "import time\n",
    "from collections import Counter, defaultdict, OrderedDict"
   ]
  },
  {
   "cell_type": "markdown",
   "metadata": {},
   "source": [
    "# Preprocessing corpus"
   ]
  },
  {
   "cell_type": "code",
   "execution_count": 2,
   "metadata": {
    "collapsed": true
   },
   "outputs": [],
   "source": [
    "STOPWORDS_FILENAME = 'pap/stopwords1.txt'\n",
    "\n",
    "stopwords = set([line.strip() for line in codecs.open(STOPWORDS_FILENAME, encoding='utf-8').readlines()])"
   ]
  },
  {
   "cell_type": "code",
   "execution_count": 3,
   "metadata": {
    "collapsed": true
   },
   "outputs": [],
   "source": [
    "def remove_special_chars(text):\n",
    "    return re.compile(r'[\\W\\d]+', re.UNICODE).sub(' ', text)"
   ]
  },
  {
   "cell_type": "code",
   "execution_count": 4,
   "metadata": {
    "collapsed": true
   },
   "outputs": [],
   "source": [
    "def remove_whitespace(text):\n",
    "    return re.compile(r'[\\s\\n]+', re.UNICODE).sub(' ', text)"
   ]
  },
  {
   "cell_type": "code",
   "execution_count": 5,
   "metadata": {
    "collapsed": true
   },
   "outputs": [],
   "source": [
    "def remove_stopwords(words):\n",
    "    return [word for word in words if word not in stopwords]"
   ]
  },
  {
   "cell_type": "code",
   "execution_count": 6,
   "metadata": {
    "collapsed": true
   },
   "outputs": [],
   "source": [
    "def preprocess_corpus(corpus):\n",
    "    corpus = corpus.strip().lower()\n",
    "    corpus = remove_special_chars(corpus)\n",
    "    corpus = remove_whitespace(corpus)\n",
    "    words = corpus.split()\n",
    "    return remove_stopwords(words)"
   ]
  },
  {
   "cell_type": "code",
   "execution_count": 7,
   "metadata": {},
   "outputs": [
    {
     "name": "stdout",
     "output_type": "stream",
     "text": [
      "jesień\n",
      "japonii\n",
      "przepiękna\n"
     ]
    }
   ],
   "source": [
    "text = u'Jesień w 2017 Japonii jest przepiękna.'\n",
    "for word in preprocess_corpus(text):\n",
    "    print word"
   ]
  },
  {
   "cell_type": "code",
   "execution_count": 8,
   "metadata": {
    "collapsed": true
   },
   "outputs": [],
   "source": [
    "FORMS_FILENAME = 'pap/odm.txt'"
   ]
  },
  {
   "cell_type": "code",
   "execution_count": 9,
   "metadata": {
    "collapsed": true
   },
   "outputs": [],
   "source": [
    "class Dictionary(object):\n",
    "    def __init__(self):\n",
    "        self.basic_forms = []\n",
    "        self.forms = defaultdict(lambda: [])\n",
    "\n",
    "        with codecs.open(FORMS_FILENAME, encoding='utf-8') as forms_file:\n",
    "            lines = forms_file.readlines()\n",
    "            for line in lines:\n",
    "                forms = line.split(', ')\n",
    "                id = len(self.basic_forms)\n",
    "                basic_form = forms[0]\n",
    "                self.basic_forms.append(basic_form)\n",
    "\n",
    "                for form in forms:\n",
    "                    self.forms[form].append(id)\n",
    "\n",
    "    def rec(self, word):\n",
    "        return self.forms[word]\n",
    "\n",
    "    def bform(self, id):\n",
    "        return self.basic_forms[id]"
   ]
  },
  {
   "cell_type": "code",
   "execution_count": 10,
   "metadata": {
    "collapsed": true
   },
   "outputs": [],
   "source": [
    "dict = Dictionary()"
   ]
  },
  {
   "cell_type": "code",
   "execution_count": 11,
   "metadata": {
    "collapsed": true
   },
   "outputs": [],
   "source": [
    "def basic_form(word):\n",
    "    ids = dict.rec(word)\n",
    "    return dict.bform(ids[0]) if len(ids) > 0 else word"
   ]
  },
  {
   "cell_type": "code",
   "execution_count": 12,
   "metadata": {},
   "outputs": [
    {
     "name": "stdout",
     "output_type": "stream",
     "text": [
      "drzewo\n"
     ]
    }
   ],
   "source": [
    "print basic_form(u'drzewem')"
   ]
  },
  {
   "cell_type": "code",
   "execution_count": 13,
   "metadata": {
    "collapsed": true
   },
   "outputs": [],
   "source": [
    "def get_basic_form(words):\n",
    "    return [basic_form(word) for word in words]"
   ]
  },
  {
   "cell_type": "code",
   "execution_count": 14,
   "metadata": {},
   "outputs": [
    {
     "name": "stdout",
     "output_type": "stream",
     "text": [
      "Jesień\n",
      "Japonia\n",
      "byæ\n",
      "przepiękna.\n"
     ]
    }
   ],
   "source": [
    "text = [u'Jesień', u'Japonii', u'jest', u'przepiękna.']\n",
    "for word in get_basic_form(text):\n",
    "    print word"
   ]
  },
  {
   "cell_type": "code",
   "execution_count": 15,
   "metadata": {
    "collapsed": true
   },
   "outputs": [],
   "source": [
    "CORPUS_PAP = 'pap/pap.txt'"
   ]
  },
  {
   "cell_type": "code",
   "execution_count": 16,
   "metadata": {
    "collapsed": true
   },
   "outputs": [],
   "source": [
    "with codecs.open(CORPUS_PAP, encoding='utf-8') as f:\n",
    "    corpus = f.read().replace('\\n', '')"
   ]
  },
  {
   "cell_type": "code",
   "execution_count": 62,
   "metadata": {
    "collapsed": true
   },
   "outputs": [],
   "source": [
    "# corpus"
   ]
  },
  {
   "cell_type": "markdown",
   "metadata": {},
   "source": [
    "Getting the corpus with only relevant words."
   ]
  },
  {
   "cell_type": "code",
   "execution_count": 17,
   "metadata": {},
   "outputs": [
    {
     "name": "stdout",
     "output_type": "stream",
     "text": [
      "Preprocess time: 8.07610106468 s\n"
     ]
    }
   ],
   "source": [
    "start = time.time()\n",
    "words = preprocess_corpus(corpus)\n",
    "# words\n",
    "words = get_basic_form(words)\n",
    "stop = time.time()\n",
    "print \"Preprocess time: \" + str(stop-start) + \" s\""
   ]
  },
  {
   "cell_type": "code",
   "execution_count": 18,
   "metadata": {},
   "outputs": [
    {
     "data": {
      "text/plain": [
       "2022038"
      ]
     },
     "execution_count": 18,
     "metadata": {},
     "output_type": "execute_result"
    }
   ],
   "source": [
    "denominator = len(words) #number of words in corpus\n",
    "denominator"
   ]
  },
  {
   "cell_type": "markdown",
   "metadata": {},
   "source": [
    "Count words frequency in corpus"
   ]
  },
  {
   "cell_type": "code",
   "execution_count": 19,
   "metadata": {
    "collapsed": true
   },
   "outputs": [],
   "source": [
    "word_frequency = Counter(words)\n",
    "# word_frequency"
   ]
  },
  {
   "cell_type": "code",
   "execution_count": 20,
   "metadata": {},
   "outputs": [
    {
     "data": {
      "text/plain": [
       "262"
      ]
     },
     "execution_count": 20,
     "metadata": {},
     "output_type": "execute_result"
    }
   ],
   "source": [
    "word_frequency['rocznicy']"
   ]
  },
  {
   "cell_type": "code",
   "execution_count": 27,
   "metadata": {},
   "outputs": [
    {
     "data": {
      "text/plain": [
       "49"
      ]
     },
     "execution_count": 27,
     "metadata": {},
     "output_type": "execute_result"
    }
   ],
   "source": [
    "word_frequency['chleb']"
   ]
  },
  {
   "cell_type": "code",
   "execution_count": 28,
   "metadata": {},
   "outputs": [
    {
     "data": {
      "text/plain": [
       "42"
      ]
     },
     "execution_count": 28,
     "metadata": {},
     "output_type": "execute_result"
    }
   ],
   "source": [
    "word_frequency['jedzenie']"
   ]
  },
  {
   "cell_type": "code",
   "execution_count": 29,
   "metadata": {},
   "outputs": [
    {
     "data": {
      "text/plain": [
       "5"
      ]
     },
     "execution_count": 29,
     "metadata": {},
     "output_type": "execute_result"
    }
   ],
   "source": [
    "word_frequency['powszedni']"
   ]
  },
  {
   "cell_type": "code",
   "execution_count": 31,
   "metadata": {},
   "outputs": [
    {
     "data": {
      "text/plain": [
       "1"
      ]
     },
     "execution_count": 31,
     "metadata": {},
     "output_type": "execute_result"
    }
   ],
   "source": [
    "word_frequency[u'mas\\u0142o']"
   ]
  },
  {
   "cell_type": "markdown",
   "metadata": {},
   "source": [
    "Count the frequency of pair words"
   ]
  },
  {
   "cell_type": "code",
   "execution_count": 21,
   "metadata": {
    "collapsed": true
   },
   "outputs": [],
   "source": [
    "def get_pairs_parallel(word):\n",
    "    offset = 12\n",
    "    d =[]\n",
    "    index = words.index(word) #get the index of the processed word\n",
    "    if(index < len(words) - offset):\n",
    "        for i in range(index, index+offset): #check the neighbours of the processed word in offset distance\n",
    "            pair = (word, words[i+1]) #create a pair of co-occurance\n",
    "            d.append(pair)\n",
    "#                 print i, pair\n",
    "    return d"
   ]
  },
  {
   "cell_type": "code",
   "execution_count": 22,
   "metadata": {},
   "outputs": [
    {
     "name": "stdout",
     "output_type": "stream",
     "text": [
      "Getting pairs parallel time: 14440.5019059 s\n",
      "[[(u'\\u015brody', u'czwartek'), (u'\\u015brody', u'zmar\\u0142'), (u'\\u015brody', u'd\\u0142ugiej'), (u'\\u015brody', u'ci\\u0119\\u017ckiej'), (u'\\u015brody', u'choroba'), (u'\\u015brody', u'minister'), (u'\\u015brody', u'kultura'), (u'\\u015brody', u'dziedzictwo'), (u'\\u015brody', u'narodowy'), (u'\\u015brody', u'andrzej'), (u'\\u015brody', u'zakrzewski'), (u'\\u015brody', u'mia\\u0142')], [(u'czwartek', u'zmar\\u0142'), (u'czwartek', u'd\\u0142ugiej'), (u'czwartek', u'ci\\u0119\\u017ckiej'), (u'czwartek', u'choroba'), (u'czwartek', u'minister'), (u'czwartek', u'kultura'), (u'czwartek', u'dziedzictwo'), (u'czwartek', u'narodowy'), (u'czwartek', u'andrzej'), (u'czwartek', u'zakrzewski'), (u'czwartek', u'mia\\u0142'), (u'czwartek', u'wykszta\\u0142cenia')], [(u'zmar\\u0142', u'd\\u0142ugiej'), (u'zmar\\u0142', u'ci\\u0119\\u017ckiej'), (u'zmar\\u0142', u'choroba'), (u'zmar\\u0142', u'minister'), (u'zmar\\u0142', u'kultura'), (u'zmar\\u0142', u'dziedzictwo'), (u'zmar\\u0142', u'narodowy'), (u'zmar\\u0142', u'andrzej'), (u'zmar\\u0142', u'zakrzewski'), (u'zmar\\u0142', u'mia\\u0142'), (u'zmar\\u0142', u'wykszta\\u0142cenia'), (u'zmar\\u0142', u'prawnik')], [(u'd\\u0142ugiej', u'ci\\u0119\\u017ckiej'), (u'd\\u0142ugiej', u'choroba'), (u'd\\u0142ugiej', u'minister'), (u'd\\u0142ugiej', u'kultura'), (u'd\\u0142ugiej', u'dziedzictwo'), (u'd\\u0142ugiej', u'narodowy'), (u'd\\u0142ugiej', u'andrzej'), (u'd\\u0142ugiej', u'zakrzewski'), (u'd\\u0142ugiej', u'mia\\u0142'), (u'd\\u0142ugiej', u'wykszta\\u0142cenia'), (u'd\\u0142ugiej', u'prawnik'), (u'd\\u0142ugiej', u'historyk')]]\n"
     ]
    }
   ],
   "source": [
    "from multiprocessing import Pool\n",
    "start = time.time()\n",
    "p = Pool(8)\n",
    "d = p.map(get_pairs_parallel, words)\n",
    "stop = time.time()\n",
    "print \"Getting pairs parallel time: \" + str(stop-start) + \" s\"\n",
    "print d[1:5]"
   ]
  },
  {
   "cell_type": "code",
   "execution_count": 23,
   "metadata": {
    "collapsed": true
   },
   "outputs": [],
   "source": [
    "def count_pairs(lista):\n",
    "    d = Counter()\n",
    "    for pairs in lista:\n",
    "        for pair in pairs:\n",
    "            if(d[(pair[1], pair[0])] > 0): #check if there is already reversed pair\n",
    "                pair = (pair[1], pair[0])\n",
    "            d[pair] += 1\n",
    "    return d       "
   ]
  },
  {
   "cell_type": "code",
   "execution_count": 24,
   "metadata": {},
   "outputs": [
    {
     "name": "stdout",
     "output_type": "stream",
     "text": [
      "Counting pairs time: 82.8877530098 s\n"
     ]
    }
   ],
   "source": [
    "start = time.time()\n",
    "pairs_frequency = count_pairs(d)\n",
    "stop = time.time()\n",
    "print \"Counting pairs time: \" + str(stop-start) + \" s\""
   ]
  },
  {
   "cell_type": "code",
   "execution_count": null,
   "metadata": {
    "collapsed": true
   },
   "outputs": [],
   "source": [
    "# pairs_frequency"
   ]
  },
  {
   "cell_type": "code",
   "execution_count": 25,
   "metadata": {},
   "outputs": [
    {
     "data": {
      "text/plain": [
       "347"
      ]
     },
     "execution_count": 25,
     "metadata": {},
     "output_type": "execute_result"
    }
   ],
   "source": [
    "pairs_frequency[('pomnik', 'premier')]"
   ]
  },
  {
   "cell_type": "markdown",
   "metadata": {},
   "source": [
    "Sort the pairs according to their frequency in corpus"
   ]
  },
  {
   "cell_type": "code",
   "execution_count": 26,
   "metadata": {},
   "outputs": [
    {
     "data": {
      "text/plain": [
       "[((u'czerwiec', u'polski'), 15441),\n",
       " ((u'polski', u'wynika\\xe6'), 14583),\n",
       " ((u'polski', u'harmonogram'), 14583),\n",
       " ((u'polski', u'charkowie'), 14583),\n",
       " ((u'polski', u'wst\\u0119pnego'), 14583),\n",
       " ((u'polski', u'obch\\xf3d'), 14583),\n",
       " ((u'polski', u'katyniu'), 14583),\n",
       " ((u'polski', u'zbrodnia'), 14583),\n",
       " ((u'polski', u'miednoje'), 14583),\n",
       " ((u'polski', u'rocznicy'), 14583),\n",
       " ((u'polski', u'\\u017co\\u0142nierzy'), 14583),\n",
       " ((u'polski', u'lipiec'), 14583),\n",
       " ((u'proca', u'europejsk\\u0105'), 11033),\n",
       " ((u'proca', u'uzgodni\\xe6'), 11033),\n",
       " ((u'proca', u'strony'), 11033),\n",
       " ((u'proca', u'prognoza'), 11033),\n",
       " ((u'proca', u'oba'), 11033),\n",
       " ((u'proca', u'polski'), 11033),\n",
       " ((u'proca', u'podpisa\\u0142y'), 11033),\n",
       " ((u'proca', u'rz\\u0105d'), 11033)]"
      ]
     },
     "execution_count": 26,
     "metadata": {},
     "output_type": "execute_result"
    }
   ],
   "source": [
    "pairs_frequency.most_common(20)"
   ]
  },
  {
   "cell_type": "markdown",
   "metadata": {},
   "source": [
    "Find associations's frequency for given word"
   ]
  },
  {
   "cell_type": "code",
   "execution_count": 32,
   "metadata": {
    "collapsed": true
   },
   "outputs": [],
   "source": [
    "def find_associations(pairs, word):\n",
    "    counter = Counter()\n",
    "    for pair in pairs.most_common():\n",
    "        if (word == pair[0][0]):\n",
    "            counter[pair[0][1]] = pair[1]\n",
    "        if (word == pair[0][1]):\n",
    "            counter[pair[0][0]] = pair[1]\n",
    "    return counter"
   ]
  },
  {
   "cell_type": "code",
   "execution_count": 34,
   "metadata": {},
   "outputs": [
    {
     "data": {
      "text/plain": [
       "[(u'europejski', 3649),\n",
       " (u'jerzego', 3502),\n",
       " (u'morze', 3502),\n",
       " (u'polski', 3502),\n",
       " (u'pier\\u015bcienia', 3502),\n",
       " (u'pucku', 3502),\n",
       " (u'zako\\u0144czy\\u0142y', 3502),\n",
       " (u'srebrny', 3502),\n",
       " (u'rocznicy', 3502),\n",
       " (u'za\\u015blubin', 3502),\n",
       " (u'buzka', 3502),\n",
       " (u'ba\\u0142tyku', 3502),\n",
       " (u'obchody', 3502),\n",
       " (u'spotka\\xe6', 2437),\n",
       " (u'w\\u015br\\xf3d', 1205),\n",
       " (u'wrze\\u015bnia', 837),\n",
       " (u'nadal', 781),\n",
       " (u'wojny', 659),\n",
       " (u'wysoko\\u015bci', 625),\n",
       " (u'\\u015bwiatowej', 582)]"
      ]
     },
     "execution_count": 34,
     "metadata": {},
     "output_type": "execute_result"
    }
   ],
   "source": [
    "find_associations(pairs_frequency, \"premier\").most_common(20)"
   ]
  },
  {
   "cell_type": "code",
   "execution_count": 55,
   "metadata": {},
   "outputs": [
    {
     "data": {
      "text/plain": [
       "[(u'powa\\u017cniejszych', 9),\n",
       " (u'taks\\xf3wk\\u0105', 5),\n",
       " (u'rad', 5),\n",
       " (u'ceny', 5),\n",
       " (u'warszawy', 5),\n",
       " (u'taks\\xf3wkowy', 5),\n",
       " (u'nowa', 5),\n",
       " (u'miasto', 5),\n",
       " (u'zobowi\\u0105za\\u0142a', 5),\n",
       " (u'maksymalny', 5),\n",
       " (u'us\\u0142ugi', 5),\n",
       " (u'warszawa', 5),\n",
       " (u'uchwali\\u0142a', 5),\n",
       " (u'ortopeda', 3),\n",
       " (u'latniemal', 1),\n",
       " (u'miastawilna', 1),\n",
       " (u'tabliczk\\u0105', 1),\n",
       " (u'je\\u017ad\\u017apomara\\u0144czowym', 1),\n",
       " (u'ortopedyczny', 1),\n",
       " (u'wystawow\\u0105', 1)]"
      ]
     },
     "execution_count": 55,
     "metadata": {},
     "output_type": "execute_result"
    }
   ],
   "source": [
    "find_associations(pairs_frequency, \"powszedni\").most_common(20)"
   ]
  },
  {
   "cell_type": "code",
   "execution_count": 56,
   "metadata": {},
   "outputs": [
    {
     "data": {
      "text/plain": [
       "[(u'wywo\\u0142ywa\\u0142o', 42),\n",
       " (u'spo\\u017cyciu', 42),\n",
       " (u'skutek', 42),\n",
       " (u'po\\u017cywienia', 42),\n",
       " (u'tabletka', 42),\n",
       " (u'witamin\\u0105', 42),\n",
       " (u'negatywny', 42),\n",
       " (u'witamin\\u0119', 42),\n",
       " (u'zwi\\u0119kszonej', 42),\n",
       " (u'dawka', 42),\n",
       " (u'bogaty', 42),\n",
       " (u'c', 42),\n",
       " (u'kurort', 31),\n",
       " (u'trzydziestu', 26),\n",
       " (u'znikn\\u0119\\u0142o', 6),\n",
       " (u'przeciws\\u0142oneczne', 5),\n",
       " (u'policzek', 5),\n",
       " (u'nakt\\xf3re', 5),\n",
       " (u'si\\u0119bardziej', 5),\n",
       " (u'nvcjd', 4)]"
      ]
     },
     "execution_count": 56,
     "metadata": {},
     "output_type": "execute_result"
    }
   ],
   "source": [
    "find_associations(pairs_frequency, \"jedzenie\").most_common(20)"
   ]
  },
  {
   "cell_type": "code",
   "execution_count": 57,
   "metadata": {},
   "outputs": [
    {
     "data": {
      "text/plain": [
       "[(u'charga', 49),\n",
       " (u'pustynia', 49),\n",
       " (u'marcu', 49),\n",
       " (u'bada\\u0142a', 49),\n",
       " (u'ofiar\\u0119', 49),\n",
       " (u'zachodz\\u0105ce', 49),\n",
       " (u'b\\xf3stwo', 49),\n",
       " (u'zasypuj\\u0105cej', 49),\n",
       " (u'przeznaczy\\xe6', 49),\n",
       " (u'procesy', 49),\n",
       " (u'oaz\\u0119', 49),\n",
       " (u'egipcie', 49),\n",
       " (u'ostrowie', 22),\n",
       " (u'najgorzej', 21),\n",
       " (u'nieszawie', 14),\n",
       " (u'kultowy', 12),\n",
       " (u'dob\\xf3r', 11),\n",
       " (u'symbolizowa\\xe6', 8),\n",
       " (u'gotowa\\xe6', 8),\n",
       " (u'nada\\u0142o', 8)]"
      ]
     },
     "execution_count": 57,
     "metadata": {},
     "output_type": "execute_result"
    }
   ],
   "source": [
    "find_associations(pairs_frequency, \"chleb\").most_common(20)"
   ]
  },
  {
   "cell_type": "code",
   "execution_count": 58,
   "metadata": {},
   "outputs": [
    {
     "data": {
      "text/plain": [
       "[(u'smutniak', 1),\n",
       " (u'poziomieregionalnym', 1),\n",
       " (u'monitorowa\\xe6', 1),\n",
       " (u'substancja', 1),\n",
       " (u'rozk\\u0142adu', 1),\n",
       " (u'wykorzystywa\\xe6', 1),\n",
       " (u'bartoszaobuchowicza', 1),\n",
       " (u'uczony', 1),\n",
       " (u'globalny', 1),\n",
       " (u'\\u015brodowisko', 1),\n",
       " (u'zanieczyszczaj\\u0105cych', 1),\n",
       " (u'zaorskiego', 1),\n",
       " (u'organiczny', 1),\n",
       " (u'izwi\\u0105zk\\xf3w', 1),\n",
       " (u'miazg\\u0119', 1),\n",
       " (u'podaj\\u0105', 1)]"
      ]
     },
     "execution_count": 58,
     "metadata": {},
     "output_type": "execute_result"
    }
   ],
   "source": [
    "find_associations(pairs_frequency, u'mas\\u0142o').most_common(20)"
   ]
  },
  {
   "cell_type": "markdown",
   "metadata": {},
   "source": [
    "Find the associantion's strenght for given word"
   ]
  },
  {
   "cell_type": "code",
   "execution_count": 35,
   "metadata": {
    "collapsed": true
   },
   "outputs": [],
   "source": [
    "def find_strenght(pairs, word, alpha = 0.66, beta = 0.00002, gamma = 0.00002):\n",
    "    strenght_counter = Counter()\n",
    "    for pair in pairs.most_common():\n",
    "        if (word == pair[0][0]):\n",
    "            association = pair[0][1]\n",
    "        elif(word == pair[0][1]):\n",
    "            association = pair[0][0]\n",
    "        else:\n",
    "            continue\n",
    "        \n",
    "        assoc_freq = word_frequency[association]\n",
    "        pair_freq = pair[1]\n",
    "        if (assoc_freq > beta * denominator):\n",
    "            strenght = pair_freq / pow(assoc_freq, alpha)\n",
    "        else:\n",
    "            strenght = pair_freq / (gamma * denominator)\n",
    "        \n",
    "        strenght_counter[association] = strenght;\n",
    "        \n",
    "    return strenght_counter  "
   ]
  },
  {
   "cell_type": "code",
   "execution_count": 36,
   "metadata": {},
   "outputs": [
    {
     "data": {
      "text/plain": [
       "[(u'ba\\u0142tyku', 218.32666053123876),\n",
       " (u'zako\\u0144czy\\u0142y', 119.96230549136857),\n",
       " (u'obchody', 117.63558292070766),\n",
       " (u'srebrny', 99.6132643823773),\n",
       " (u'rocznicy', 88.76408680854864),\n",
       " (u'pier\\u015bcienia', 86.59580087021114),\n",
       " (u'pucku', 86.59580087021114),\n",
       " (u'za\\u015blubin', 86.59580087021114),\n",
       " (u'morze', 76.99687930363577),\n",
       " (u'buzka', 67.69585201896305)]"
      ]
     },
     "execution_count": 36,
     "metadata": {},
     "output_type": "execute_result"
    }
   ],
   "source": [
    "find_strenght(pairs_frequency, 'premier').most_common(10)"
   ]
  },
  {
   "cell_type": "code",
   "execution_count": 37,
   "metadata": {},
   "outputs": [
    {
     "name": "stdout",
     "output_type": "stream",
     "text": [
      "bałtyku 218.326660531\n",
      "zakończyły 119.962305491\n",
      "obchody 117.635582921\n",
      "srebrny 99.6132643824\n",
      "rocznicy 88.7640868085\n",
      "pierścienia 86.5958008702\n",
      "pucku 86.5958008702\n",
      "zaślubin 86.5958008702\n",
      "morze 76.9968793036\n",
      "buzka 67.695852019\n"
     ]
    }
   ],
   "source": [
    "for word in find_strenght(pairs_frequency, 'premier').most_common(10):\n",
    "     print word[0],word[1]"
   ]
  },
  {
   "cell_type": "code",
   "execution_count": 38,
   "metadata": {},
   "outputs": [
    {
     "name": "stdout",
     "output_type": "stream",
     "text": [
      "priorytet 23.7620351707\n",
      "proca 23.6873147127\n",
      "podpisały 20.8144298123\n",
      "komisję 17.4781128062\n",
      "gospodarczy 15.0530355364\n",
      "uzgodniæ 14.7397757368\n",
      "komitet 12.0841160891\n",
      "wzrost 11.6571593886\n",
      "nt 11.5075694932\n",
      "tempo 10.3232947256\n"
     ]
    }
   ],
   "source": [
    "for word in find_strenght(pairs_frequency, 'ekonomiczny').most_common(10):\n",
    "     print word[0],word[1]"
   ]
  },
  {
   "cell_type": "code",
   "execution_count": 39,
   "metadata": {},
   "outputs": [
    {
     "name": "stdout",
     "output_type": "stream",
     "text": [
      "katyniu 1035.63686344\n",
      "obchód 561.638806292\n",
      "rocznicy 369.630690442\n",
      "charkowie 360.601531722\n",
      "wstępnego 360.601531722\n",
      "miednoje 360.601531722\n",
      "harmonogram 360.601531722\n",
      "żołnierzy 262.130409974\n",
      "zbrodnia 188.295597266\n",
      "czerwiec 178.884953737\n"
     ]
    }
   ],
   "source": [
    "for word in find_strenght(pairs_frequency, 'polski').most_common(10):\n",
    "     print word[0],word[1]"
   ]
  },
  {
   "cell_type": "code",
   "execution_count": 40,
   "metadata": {},
   "outputs": [
    {
     "name": "stdout",
     "output_type": "stream",
     "text": [
      "zmienił 34.9316779337\n",
      "spadł 27.0755477562\n",
      "nfi 25.5039526423\n",
      "wzrósł 25.4948014829\n",
      "sesja 21.9747447183\n",
      "rynku 17.1200590399\n",
      "papier 16.7785652659\n",
      "giełdy 16.3750331096\n",
      "wartościowych 15.2843283467\n",
      "funduszy 13.4052567965\n"
     ]
    }
   ],
   "source": [
    "for word in find_strenght(pairs_frequency, 'kurs').most_common(10):\n",
    "     print word[0],word[1]"
   ]
  },
  {
   "cell_type": "code",
   "execution_count": 41,
   "metadata": {},
   "outputs": [
    {
     "name": "stdout",
     "output_type": "stream",
     "text": [
      "badacz 210.573227332\n",
      "prawnik 196.570510524\n",
      "historyk 158.462304941\n",
      "dziedzictwo 158.462304941\n",
      "zakrzewski 102.223598172\n",
      "wykształcenia 102.223598172\n",
      "historia 58.7842587552\n",
      "miał 47.6364995976\n",
      "kultura 44.0475300737\n",
      "andrzej 37.6390177757\n"
     ]
    }
   ],
   "source": [
    "for word in find_strenght(pairs_frequency, 'minister').most_common(10):\n",
    "     print word[0],word[1]"
   ]
  },
  {
   "cell_type": "code",
   "execution_count": 42,
   "metadata": {},
   "outputs": [
    {
     "name": "stdout",
     "output_type": "stream",
     "text": [
      "robertson 24.7161236137\n",
      "zgadzaæ 24.0483403571\n",
      "zakończenie 22.802670191\n",
      "wizyty 18.9979880212\n",
      "metoda 16.6858906453\n",
      "stosowaæ 12.2216084023\n",
      "czeczenii 9.26317676216\n",
      "stolicy 8.30422702068\n",
      "konflikt 7.48826151176\n",
      "kwietniu 7.03944681833\n"
     ]
    }
   ],
   "source": [
    "for word in find_strenght(pairs_frequency, 'rosja').most_common(10):\n",
    "     print word[0],word[1]"
   ]
  },
  {
   "cell_type": "code",
   "execution_count": 43,
   "metadata": {},
   "outputs": [
    {
     "name": "stdout",
     "output_type": "stream",
     "text": [
      "przyjaciół 28.1124990628\n",
      "służyć 23.0177943575\n",
      "najważniejszych 16.7070774009\n",
      "przykład 16.3323823029\n",
      "cudowny 10.9295671001\n",
      "przyjaźni 10.9295671001\n",
      "mogącej 10.9295671001\n",
      "izraela 8.28327431876\n",
      "strefy 6.47300783992\n",
      "obu 6.16915162033\n"
     ]
    }
   ],
   "source": [
    "for word in find_strenght(pairs_frequency, 'niemcy').most_common(10):\n",
    "    print word[0],word[1]"
   ]
  },
  {
   "cell_type": "code",
   "execution_count": 44,
   "metadata": {
    "scrolled": true
   },
   "outputs": [
    {
     "name": "stdout",
     "output_type": "stream",
     "text": [
      "spowodować 7.96009516347\n",
      "szansę 6.10498671093\n",
      "braku 5.9641882783\n",
      "uwolniæ 5.39240487032\n",
      "świat 4.76607842058\n",
      "wybuch 4.60887194086\n",
      "wyrównywaæ 4.03058696226\n",
      "groźby 4.03058696226\n",
      "mogącej 4.03058696226\n",
      "wspaniałą 4.03058696226\n"
     ]
    }
   ],
   "source": [
    "for word in find_strenght(pairs_frequency, 'polityka').most_common(10):\n",
    "    print word[0],word[1]"
   ]
  },
  {
   "cell_type": "code",
   "execution_count": 60,
   "metadata": {},
   "outputs": [
    {
     "name": "stdout",
     "output_type": "stream",
     "text": [
      "środowisko 0.064257114166\n",
      "globalny 0.0611448100415\n",
      "substancja 0.0537001713157\n",
      "wykorzystywaæ 0.0303918382779\n",
      "uczony 0.0263523901014\n",
      "smutniak 0.0247275273758\n",
      "poziomieregionalnym 0.0247275273758\n",
      "monitorowaæ 0.0247275273758\n",
      "rozkładu 0.0247275273758\n",
      "bartoszaobuchowicza 0.0247275273758\n",
      "zanieczyszczających 0.0247275273758\n",
      "zaorskiego 0.0247275273758\n",
      "organiczny 0.0247275273758\n",
      "izwiązków 0.0247275273758\n",
      "miazgę 0.0247275273758\n"
     ]
    }
   ],
   "source": [
    "for word in find_strenght(pairs_frequency, u'mas\\u0142o').most_common(15):\n",
    "    print word[0],word[1]"
   ]
  },
  {
   "cell_type": "code",
   "execution_count": 61,
   "metadata": {},
   "outputs": [
    {
     "name": "stdout",
     "output_type": "stream",
     "text": [
      "bogaty 2.02362512064\n",
      "c 1.30698462729\n",
      "wywoływało 1.03855614979\n",
      "spożyciu 1.03855614979\n",
      "pożywienia 1.03855614979\n",
      "tabletka 1.03855614979\n",
      "witaminą 1.03855614979\n",
      "witaminę 1.03855614979\n",
      "zwiększonej 1.03855614979\n",
      "dawka 1.03855614979\n",
      "negatywny 0.952687731415\n",
      "skutek 0.778436349142\n",
      "kurort 0.766553348651\n",
      "trzydziestu 0.642915711772\n",
      "zniknęło 0.148365164255\n"
     ]
    }
   ],
   "source": [
    "for word in find_strenght(pairs_frequency, 'jedzenie').most_common(15):\n",
    "    print word[0],word[1]"
   ]
  },
  {
   "cell_type": "code",
   "execution_count": 62,
   "metadata": {},
   "outputs": [
    {
     "name": "stdout",
     "output_type": "stream",
     "text": [
      "pustynia 4.03197019942\n",
      "egipcie 3.97260898875\n",
      "charga 1.21164884142\n",
      "badała 1.21164884142\n",
      "ofiarę 1.21164884142\n",
      "zachodzące 1.21164884142\n",
      "bóstwo 1.21164884142\n",
      "zasypującej 1.21164884142\n",
      "procesy 1.21164884142\n",
      "oazę 1.21164884142\n",
      "przeznaczyæ 1.02398450086\n",
      "marcu 0.987209440264\n",
      "ostrowie 0.544005602269\n",
      "najgorzej 0.519278074893\n",
      "nieszawie 0.346185383262\n"
     ]
    }
   ],
   "source": [
    "for word in find_strenght(pairs_frequency, 'chleb').most_common(15):\n",
    "    print word[0],word[1]"
   ]
  },
  {
   "cell_type": "code",
   "execution_count": 63,
   "metadata": {},
   "outputs": [
    {
     "name": "stdout",
     "output_type": "stream",
     "text": [
      "maksymalny 0.254684600063\n",
      "poważniejszych 0.222547746383\n",
      "usługi 0.196313297099\n",
      "taksówką 0.123637636879\n",
      "taksówkowy 0.123637636879\n",
      "zobowiązała 0.123637636879\n",
      "uchwaliła 0.123637636879\n",
      "warszawy 0.085576047131\n",
      "ceny 0.082078736656\n",
      "ortopeda 0.0741825821275\n",
      "miasto 0.0421890299733\n",
      "rad 0.0282262695947\n",
      "warszawa 0.0252665137081\n",
      "nowa 0.024744106982\n",
      "latniemal 0.0247275273758\n"
     ]
    }
   ],
   "source": [
    "for word in find_strenght(pairs_frequency, 'powszedni').most_common(15):\n",
    "    print word[0],word[1]"
   ]
  },
  {
   "cell_type": "code",
   "execution_count": null,
   "metadata": {
    "collapsed": true
   },
   "outputs": [],
   "source": []
  }
 ],
 "metadata": {
  "kernelspec": {
   "display_name": "Python 2",
   "language": "python",
   "name": "python2"
  },
  "language_info": {
   "codemirror_mode": {
    "name": "ipython",
    "version": 2
   },
   "file_extension": ".py",
   "mimetype": "text/x-python",
   "name": "python",
   "nbconvert_exporter": "python",
   "pygments_lexer": "ipython2",
   "version": "2.7.14"
  }
 },
 "nbformat": 4,
 "nbformat_minor": 2
}
