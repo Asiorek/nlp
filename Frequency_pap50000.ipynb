{
 "cells": [
  {
   "cell_type": "code",
   "execution_count": 1,
   "metadata": {
    "collapsed": true
   },
   "outputs": [],
   "source": [
    "# -*- coding: utf-8 -*-\n",
    "import codecs\n",
    "import re\n",
    "import sys\n",
    "import time\n",
    "from collections import Counter, defaultdict, OrderedDict"
   ]
  },
  {
   "cell_type": "markdown",
   "metadata": {},
   "source": [
    "# Preprocessing corpus"
   ]
  },
  {
   "cell_type": "code",
   "execution_count": 2,
   "metadata": {
    "collapsed": true
   },
   "outputs": [],
   "source": [
    "STOPWORDS_FILENAME = 'pap/stopwords1.txt'\n",
    "\n",
    "stopwords = set([line.strip() for line in codecs.open(STOPWORDS_FILENAME, encoding='utf-8').readlines()])"
   ]
  },
  {
   "cell_type": "code",
   "execution_count": 3,
   "metadata": {
    "collapsed": true
   },
   "outputs": [],
   "source": [
    "def remove_special_chars(text):\n",
    "    return re.compile(r'[\\W\\d]+', re.UNICODE).sub(' ', text)"
   ]
  },
  {
   "cell_type": "code",
   "execution_count": 4,
   "metadata": {
    "collapsed": true
   },
   "outputs": [],
   "source": [
    "def remove_whitespace(text):\n",
    "    return re.compile(r'[\\s\\n]+', re.UNICODE).sub(' ', text)"
   ]
  },
  {
   "cell_type": "code",
   "execution_count": 5,
   "metadata": {
    "collapsed": true
   },
   "outputs": [],
   "source": [
    "def remove_stopwords(words):\n",
    "    return [word for word in words if word not in stopwords]"
   ]
  },
  {
   "cell_type": "code",
   "execution_count": 6,
   "metadata": {
    "collapsed": true
   },
   "outputs": [],
   "source": [
    "def preprocess_corpus(corpus):\n",
    "    corpus = corpus.strip().lower()\n",
    "    corpus = remove_special_chars(corpus)\n",
    "    corpus = remove_whitespace(corpus)\n",
    "    words = corpus.split()\n",
    "    return remove_stopwords(words)"
   ]
  },
  {
   "cell_type": "code",
   "execution_count": 7,
   "metadata": {},
   "outputs": [
    {
     "name": "stdout",
     "output_type": "stream",
     "text": [
      "jesień\n",
      "japonii\n",
      "przepiękna\n"
     ]
    }
   ],
   "source": [
    "text = u'Jesień w 2017 Japonii jest przepiękna.'\n",
    "for word in preprocess_corpus(text):\n",
    "    print word"
   ]
  },
  {
   "cell_type": "code",
   "execution_count": 8,
   "metadata": {
    "collapsed": true
   },
   "outputs": [],
   "source": [
    "FORMS_FILENAME = 'pap/odm.txt'"
   ]
  },
  {
   "cell_type": "code",
   "execution_count": 9,
   "metadata": {
    "collapsed": true
   },
   "outputs": [],
   "source": [
    "class Dictionary(object):\n",
    "    def __init__(self):\n",
    "        self.basic_forms = []\n",
    "        self.forms = defaultdict(lambda: [])\n",
    "\n",
    "        with codecs.open(FORMS_FILENAME, encoding='utf-8') as forms_file:\n",
    "            lines = forms_file.readlines()\n",
    "            for line in lines:\n",
    "                forms = line.split(', ')\n",
    "                id = len(self.basic_forms)\n",
    "                basic_form = forms[0]\n",
    "                self.basic_forms.append(basic_form)\n",
    "\n",
    "                for form in forms:\n",
    "                    self.forms[form].append(id)\n",
    "\n",
    "    def rec(self, word):\n",
    "        return self.forms[word]\n",
    "\n",
    "    def bform(self, id):\n",
    "        return self.basic_forms[id]"
   ]
  },
  {
   "cell_type": "code",
   "execution_count": 10,
   "metadata": {
    "collapsed": true
   },
   "outputs": [],
   "source": [
    "dict = Dictionary()"
   ]
  },
  {
   "cell_type": "code",
   "execution_count": 11,
   "metadata": {
    "collapsed": true
   },
   "outputs": [],
   "source": [
    "def basic_form(word):\n",
    "    ids = dict.rec(word)\n",
    "    return dict.bform(ids[0]) if len(ids) > 0 else word"
   ]
  },
  {
   "cell_type": "code",
   "execution_count": 12,
   "metadata": {},
   "outputs": [
    {
     "name": "stdout",
     "output_type": "stream",
     "text": [
      "drzewo\n"
     ]
    }
   ],
   "source": [
    "print basic_form(u'drzewem')"
   ]
  },
  {
   "cell_type": "code",
   "execution_count": 13,
   "metadata": {
    "collapsed": true
   },
   "outputs": [],
   "source": [
    "def get_basic_form(words):\n",
    "    return [basic_form(word) for word in words]"
   ]
  },
  {
   "cell_type": "code",
   "execution_count": 14,
   "metadata": {},
   "outputs": [
    {
     "name": "stdout",
     "output_type": "stream",
     "text": [
      "Jesień\n",
      "Japonia\n",
      "byæ\n",
      "przepiękna.\n"
     ]
    }
   ],
   "source": [
    "text = [u'Jesień', u'Japonii', u'jest', u'przepiękna.']\n",
    "for word in get_basic_form(text):\n",
    "    print word"
   ]
  },
  {
   "cell_type": "code",
   "execution_count": 15,
   "metadata": {
    "collapsed": true
   },
   "outputs": [],
   "source": [
    "CORPUS_PAP = 'pap/pap50000.txt'"
   ]
  },
  {
   "cell_type": "code",
   "execution_count": null,
   "metadata": {
    "collapsed": true
   },
   "outputs": [],
   "source": [
    "# CORPUS_PAP = 'pap/pap.txt'"
   ]
  },
  {
   "cell_type": "code",
   "execution_count": 16,
   "metadata": {
    "collapsed": true
   },
   "outputs": [],
   "source": [
    "with codecs.open(CORPUS_PAP, encoding='utf-8') as f:\n",
    "    corpus = f.read().replace('\\n', '')"
   ]
  },
  {
   "cell_type": "code",
   "execution_count": null,
   "metadata": {
    "collapsed": true
   },
   "outputs": [],
   "source": [
    "# corpus"
   ]
  },
  {
   "cell_type": "markdown",
   "metadata": {},
   "source": [
    "Getting the corpus with only relevant words."
   ]
  },
  {
   "cell_type": "code",
   "execution_count": 17,
   "metadata": {},
   "outputs": [
    {
     "name": "stdout",
     "output_type": "stream",
     "text": [
      "Preprocess time: 5.66876316071 s\n"
     ]
    }
   ],
   "source": [
    "start = time.time()\n",
    "words = preprocess_corpus(corpus)\n",
    "# words\n",
    "words = get_basic_form(words)\n",
    "stop = time.time()\n",
    "print \"Preprocess time: \" + str(stop-start) + \" s\""
   ]
  },
  {
   "cell_type": "code",
   "execution_count": 18,
   "metadata": {},
   "outputs": [
    {
     "data": {
      "text/plain": [
       "232907"
      ]
     },
     "execution_count": 18,
     "metadata": {},
     "output_type": "execute_result"
    }
   ],
   "source": [
    "denominator = len(words) #number of words in corpus\n",
    "denominator"
   ]
  },
  {
   "cell_type": "markdown",
   "metadata": {},
   "source": [
    "Count words frequency in corpus"
   ]
  },
  {
   "cell_type": "code",
   "execution_count": 19,
   "metadata": {
    "collapsed": true
   },
   "outputs": [],
   "source": [
    "word_frequency = Counter(words)\n",
    "# word_frequency"
   ]
  },
  {
   "cell_type": "code",
   "execution_count": 20,
   "metadata": {},
   "outputs": [
    {
     "data": {
      "text/plain": [
       "35"
      ]
     },
     "execution_count": 20,
     "metadata": {},
     "output_type": "execute_result"
    }
   ],
   "source": [
    "word_frequency['rocznicy']"
   ]
  },
  {
   "cell_type": "code",
   "execution_count": 21,
   "metadata": {},
   "outputs": [
    {
     "data": {
      "text/plain": [
       "7"
      ]
     },
     "execution_count": 21,
     "metadata": {},
     "output_type": "execute_result"
    }
   ],
   "source": [
    "word_frequency['chleb']"
   ]
  },
  {
   "cell_type": "code",
   "execution_count": 22,
   "metadata": {},
   "outputs": [
    {
     "data": {
      "text/plain": [
       "2"
      ]
     },
     "execution_count": 22,
     "metadata": {},
     "output_type": "execute_result"
    }
   ],
   "source": [
    "word_frequency['powszedni']"
   ]
  },
  {
   "cell_type": "code",
   "execution_count": 23,
   "metadata": {},
   "outputs": [
    {
     "data": {
      "text/plain": [
       "0"
      ]
     },
     "execution_count": 23,
     "metadata": {},
     "output_type": "execute_result"
    }
   ],
   "source": [
    "word_frequency['masło']"
   ]
  },
  {
   "cell_type": "code",
   "execution_count": 24,
   "metadata": {},
   "outputs": [
    {
     "data": {
      "text/plain": [
       "4"
      ]
     },
     "execution_count": 24,
     "metadata": {},
     "output_type": "execute_result"
    }
   ],
   "source": [
    "word_frequency['jedzenie']"
   ]
  },
  {
   "cell_type": "markdown",
   "metadata": {},
   "source": [
    "Count the frequency of pair words"
   ]
  },
  {
   "cell_type": "code",
   "execution_count": 25,
   "metadata": {
    "collapsed": true
   },
   "outputs": [],
   "source": [
    "def get_pairs_parallel(word):\n",
    "    offset = 12\n",
    "    d =[]\n",
    "    index = words.index(word) #get the index of the processed word\n",
    "    if(index < len(words) - offset):\n",
    "        for i in range(index, index+offset): #check the neighbours of the processed word in offset distance\n",
    "            pair = (word, words[i+1]) #create a pair of co-occurance\n",
    "#             if(d[(words[i+1], word)] > 0): #check if there is already reversed pair\n",
    "#                 pair = (words[i+1], word)\n",
    "            d.append(pair)\n",
    "#                 print i, pair\n",
    "    return d"
   ]
  },
  {
   "cell_type": "code",
   "execution_count": 26,
   "metadata": {},
   "outputs": [
    {
     "name": "stdout",
     "output_type": "stream",
     "text": [
      "Getting pairs parallel time: 602.744611025 s\n",
      "[[(u'\\u015brody', u'czwartek'), (u'\\u015brody', u'zmar\\u0142'), (u'\\u015brody', u'd\\u0142ugiej'), (u'\\u015brody', u'ci\\u0119\\u017ckiej'), (u'\\u015brody', u'choroba'), (u'\\u015brody', u'minister'), (u'\\u015brody', u'kultura'), (u'\\u015brody', u'dziedzictwo'), (u'\\u015brody', u'narodowy'), (u'\\u015brody', u'andrzej'), (u'\\u015brody', u'zakrzewski'), (u'\\u015brody', u'mia\\u0142')], [(u'czwartek', u'zmar\\u0142'), (u'czwartek', u'd\\u0142ugiej'), (u'czwartek', u'ci\\u0119\\u017ckiej'), (u'czwartek', u'choroba'), (u'czwartek', u'minister'), (u'czwartek', u'kultura'), (u'czwartek', u'dziedzictwo'), (u'czwartek', u'narodowy'), (u'czwartek', u'andrzej'), (u'czwartek', u'zakrzewski'), (u'czwartek', u'mia\\u0142'), (u'czwartek', u'wykszta\\u0142cenia')], [(u'zmar\\u0142', u'd\\u0142ugiej'), (u'zmar\\u0142', u'ci\\u0119\\u017ckiej'), (u'zmar\\u0142', u'choroba'), (u'zmar\\u0142', u'minister'), (u'zmar\\u0142', u'kultura'), (u'zmar\\u0142', u'dziedzictwo'), (u'zmar\\u0142', u'narodowy'), (u'zmar\\u0142', u'andrzej'), (u'zmar\\u0142', u'zakrzewski'), (u'zmar\\u0142', u'mia\\u0142'), (u'zmar\\u0142', u'wykszta\\u0142cenia'), (u'zmar\\u0142', u'prawnik')], [(u'd\\u0142ugiej', u'ci\\u0119\\u017ckiej'), (u'd\\u0142ugiej', u'choroba'), (u'd\\u0142ugiej', u'minister'), (u'd\\u0142ugiej', u'kultura'), (u'd\\u0142ugiej', u'dziedzictwo'), (u'd\\u0142ugiej', u'narodowy'), (u'd\\u0142ugiej', u'andrzej'), (u'd\\u0142ugiej', u'zakrzewski'), (u'd\\u0142ugiej', u'mia\\u0142'), (u'd\\u0142ugiej', u'wykszta\\u0142cenia'), (u'd\\u0142ugiej', u'prawnik'), (u'd\\u0142ugiej', u'historyk')]]\n"
     ]
    }
   ],
   "source": [
    "from multiprocessing import Pool\n",
    "start = time.time()\n",
    "p = Pool(8)\n",
    "d = p.map(get_pairs_parallel, words)\n",
    "stop = time.time()\n",
    "print \"Getting pairs parallel time: \" + str(stop-start) + \" s\"\n",
    "print d[1:5]"
   ]
  },
  {
   "cell_type": "code",
   "execution_count": 27,
   "metadata": {
    "collapsed": true
   },
   "outputs": [],
   "source": [
    "def count_pairs(lista):\n",
    "    d = Counter()\n",
    "    for pairs in lista:\n",
    "        for pair in pairs:\n",
    "            if(d[(pair[1], pair[0])] > 0): #check if there is already reversed pair\n",
    "                pair = (pair[1], pair[0])\n",
    "            d[pair] += 1\n",
    "    return d       "
   ]
  },
  {
   "cell_type": "code",
   "execution_count": 28,
   "metadata": {},
   "outputs": [
    {
     "name": "stdout",
     "output_type": "stream",
     "text": [
      "Counting pairs time: 21.6003260612 s\n"
     ]
    }
   ],
   "source": [
    "start = time.time()\n",
    "pairs_frequency = count_pairs(d)\n",
    "stop = time.time()\n",
    "print \"Counting pairs time: \" + str(stop-start) + \" s\""
   ]
  },
  {
   "cell_type": "code",
   "execution_count": null,
   "metadata": {
    "collapsed": true
   },
   "outputs": [],
   "source": [
    "# pairs_frequency"
   ]
  },
  {
   "cell_type": "code",
   "execution_count": 29,
   "metadata": {},
   "outputs": [
    {
     "data": {
      "text/plain": [
       "29"
      ]
     },
     "execution_count": 29,
     "metadata": {},
     "output_type": "execute_result"
    }
   ],
   "source": [
    "pairs_frequency[('pomnik', 'premier')]"
   ]
  },
  {
   "cell_type": "markdown",
   "metadata": {},
   "source": [
    "Sort the pairs according to their frequency in corpus"
   ]
  },
  {
   "cell_type": "code",
   "execution_count": 30,
   "metadata": {},
   "outputs": [
    {
     "data": {
      "text/plain": [
       "[((u'czerwiec', u'polski'), 1853),\n",
       " ((u'polski', u'obch\\xf3d'), 1784),\n",
       " ((u'polski', u'rocznicy'), 1784),\n",
       " ((u'polski', u'miednoje'), 1784),\n",
       " ((u'polski', u'wst\\u0119pnego'), 1784),\n",
       " ((u'polski', u'\\u017co\\u0142nierzy'), 1784),\n",
       " ((u'polski', u'lipiec'), 1784),\n",
       " ((u'polski', u'zbrodnia'), 1784),\n",
       " ((u'polski', u'harmonogram'), 1784),\n",
       " ((u'polski', u'charkowie'), 1784),\n",
       " ((u'polski', u'katyniu'), 1784),\n",
       " ((u'polski', u'wynika\\xe6'), 1784),\n",
       " ((u'proca', u'rz\\u0105d'), 1294),\n",
       " ((u'proca', u'prognoza'), 1294),\n",
       " ((u'proca', u'pkb'), 1294),\n",
       " ((u'proca', u'oba'), 1294),\n",
       " ((u'proca', u'polski'), 1294),\n",
       " ((u'proca', u'komisj\\u0119'), 1294),\n",
       " ((u'proca', u'strony'), 1294),\n",
       " ((u'proca', u'r'), 1294)]"
      ]
     },
     "execution_count": 30,
     "metadata": {},
     "output_type": "execute_result"
    }
   ],
   "source": [
    "pairs_frequency.most_common(20)"
   ]
  },
  {
   "cell_type": "markdown",
   "metadata": {},
   "source": [
    "Find associations's frequency for given word"
   ]
  },
  {
   "cell_type": "code",
   "execution_count": 31,
   "metadata": {
    "collapsed": true
   },
   "outputs": [],
   "source": [
    "def find_associations(pairs, word):\n",
    "    counter = Counter()\n",
    "    for pair in pairs.most_common():\n",
    "        if (word == pair[0][0]):\n",
    "            counter[pair[0][1]] = pair[1]\n",
    "        if (word == pair[0][1]):\n",
    "            counter[pair[0][0]] = pair[1]\n",
    "    return counter"
   ]
  },
  {
   "cell_type": "code",
   "execution_count": 47,
   "metadata": {},
   "outputs": [
    {
     "data": {
      "text/plain": [
       "[(u'europejski', 443),\n",
       " (u'rocznicy', 404),\n",
       " (u'srebrny', 404),\n",
       " (u'za\\u015blubin', 404),\n",
       " (u'pier\\u015bcienia', 404),\n",
       " (u'pucku', 404),\n",
       " (u'zako\\u0144czy\\u0142y', 404),\n",
       " (u'jerzego', 404),\n",
       " (u'morze', 404),\n",
       " (u'ba\\u0142tyku', 404),\n",
       " (u'obchody', 404),\n",
       " (u'buzka', 404),\n",
       " (u'polski', 404),\n",
       " (u'spotka\\xe6', 303),\n",
       " (u'w\\u015br\\xf3d', 148),\n",
       " (u'nadal', 120),\n",
       " (u'wojny', 106),\n",
       " (u'\\u015bwiatowej', 76),\n",
       " (u'wysoko\\u015bci', 67),\n",
       " (u'nagrod\\u0119', 60)]"
      ]
     },
     "execution_count": 47,
     "metadata": {},
     "output_type": "execute_result"
    }
   ],
   "source": [
    "find_associations(pairs_frequency, \"premier\").most_common(20)"
   ]
  },
  {
   "cell_type": "markdown",
   "metadata": {},
   "source": [
    "Find the associantion's strenght for given word"
   ]
  },
  {
   "cell_type": "code",
   "execution_count": 33,
   "metadata": {
    "collapsed": true
   },
   "outputs": [],
   "source": [
    "def find_strenght(pairs, word, alpha = 0.66, beta = 0.00002, gamma = 0.00002):\n",
    "    strenght_counter = Counter()\n",
    "    for pair in pairs.most_common():\n",
    "        if (word == pair[0][0]):\n",
    "            association = pair[0][1]\n",
    "        elif(word == pair[0][1]):\n",
    "            association = pair[0][0]\n",
    "        else:\n",
    "            continue\n",
    "        \n",
    "        assoc_freq = word_frequency[association]\n",
    "        pair_freq = pair[1]\n",
    "        if (assoc_freq > beta * denominator):\n",
    "            strenght = pair_freq / pow(assoc_freq, alpha)\n",
    "        else:\n",
    "            strenght = pair_freq / (gamma * denominator)\n",
    "        \n",
    "        strenght_counter[association] = strenght;\n",
    "        \n",
    "    return strenght_counter  "
   ]
  },
  {
   "cell_type": "code",
   "execution_count": 34,
   "metadata": {},
   "outputs": [
    {
     "data": {
      "text/plain": [
       "[(u'ba\\u0142tyku', 102.40990745879294),\n",
       " (u'za\\u015blubin', 86.72989648228692),\n",
       " (u'pier\\u015bcienia', 86.72989648228692),\n",
       " (u'pucku', 86.72989648228692),\n",
       " (u'srebrny', 51.00831687697073),\n",
       " (u'zako\\u0144czy\\u0142y', 51.00831687697073),\n",
       " (u'obchody', 43.77223140627446),\n",
       " (u'morze', 39.409895189542745),\n",
       " (u'rocznicy', 38.663080690635454),\n",
       " (u'buzka', 34.82924174377278)]"
      ]
     },
     "execution_count": 34,
     "metadata": {},
     "output_type": "execute_result"
    }
   ],
   "source": [
    "find_strenght(pairs_frequency, 'premier').most_common(10)"
   ]
  },
  {
   "cell_type": "code",
   "execution_count": 35,
   "metadata": {},
   "outputs": [
    {
     "name": "stdout",
     "output_type": "stream",
     "text": [
      "bałtyku 102.409907459\n",
      "zaślubin 86.7298964823\n",
      "pierścienia 86.7298964823\n",
      "pucku 86.7298964823\n",
      "srebrny 51.008316877\n",
      "zakończyły 51.008316877\n",
      "obchody 43.7722314063\n",
      "morze 39.4098951895\n",
      "rocznicy 38.6630806906\n",
      "buzka 34.8292417438\n"
     ]
    }
   ],
   "source": [
    "for word in find_strenght(pairs_frequency, 'premier').most_common(10):\n",
    "     print word[0],word[1]"
   ]
  },
  {
   "cell_type": "code",
   "execution_count": 36,
   "metadata": {},
   "outputs": [
    {
     "name": "stdout",
     "output_type": "stream",
     "text": [
      "proca 11.4303006554\n",
      "priorytet 10.7200319574\n",
      "podpisały 10.0664631444\n",
      "uzgodniæ 8.20305926166\n",
      "komisję 7.55265752228\n",
      "gospodarczy 7.18110163441\n",
      "wzrost 5.86711055681\n",
      "tempo 5.40523092381\n",
      "nt 5.30900826462\n",
      "komitet 5.21915868518\n"
     ]
    }
   ],
   "source": [
    "for word in find_strenght(pairs_frequency, 'ekonomiczny').most_common(10):\n",
    "     print word[0],word[1]"
   ]
  },
  {
   "cell_type": "code",
   "execution_count": 37,
   "metadata": {},
   "outputs": [
    {
     "name": "stdout",
     "output_type": "stream",
     "text": [
      "harmonogram 493.889898474\n",
      "katyniu 390.296673713\n",
      "charkowie 382.985483476\n",
      "wstępnego 382.985483476\n",
      "miednoje 382.985483476\n",
      "obchód 239.182893546\n",
      "lipiec 177.490719417\n",
      "rocznicy 170.730039485\n",
      "czerwiec 113.301333007\n",
      "żołnierzy 100.603342979\n"
     ]
    }
   ],
   "source": [
    "for word in find_strenght(pairs_frequency, 'polski').most_common(10):\n",
    "     print word[0],word[1]"
   ]
  },
  {
   "cell_type": "code",
   "execution_count": 38,
   "metadata": {},
   "outputs": [
    {
     "name": "stdout",
     "output_type": "stream",
     "text": [
      "zmienił 20.9866194504\n",
      "spadł 16.3754551987\n",
      "wzrósł 16.086577909\n",
      "nfi 13.5700523627\n",
      "sesja 11.2551372026\n",
      "rynku 10.3343152084\n",
      "papier 9.79536176424\n",
      "wartościowych 9.3392972474\n",
      "giełdy 9.23575596021\n",
      "funduszy 8.09680097915\n"
     ]
    }
   ],
   "source": [
    "for word in find_strenght(pairs_frequency, 'kurs').most_common(10):\n",
    "     print word[0],word[1]"
   ]
  },
  {
   "cell_type": "code",
   "execution_count": 39,
   "metadata": {},
   "outputs": [
    {
     "name": "stdout",
     "output_type": "stream",
     "text": [
      "wykształcenia 144.15040009\n",
      "badacz 89.520709983\n",
      "zakrzewski 89.520709983\n",
      "prawnik 80.8865724324\n",
      "dziedzictwo 69.8097084105\n",
      "historyk 48.55720108\n",
      "miał 20.5039267264\n",
      "historia 20.3641698354\n",
      "kultura 19.0872236247\n",
      "andrzej 13.9536324786\n"
     ]
    }
   ],
   "source": [
    "for word in find_strenght(pairs_frequency, 'minister').most_common(10):\n",
    "     print word[0],word[1]"
   ]
  },
  {
   "cell_type": "code",
   "execution_count": 40,
   "metadata": {},
   "outputs": [
    {
     "name": "stdout",
     "output_type": "stream",
     "text": [
      "zakończenie 12.4417802977\n",
      "zgadzaæ 12.3228229719\n",
      "wizyty 11.6240483366\n",
      "robertson 10.9257331\n",
      "metoda 10.9257331\n",
      "stosowaæ 8.68188285116\n",
      "stolicy 4.4688035216\n",
      "kwietniu 3.78137546036\n",
      "konflikt 3.59235522648\n",
      "kampanię 3.10480072152\n"
     ]
    }
   ],
   "source": [
    "for word in find_strenght(pairs_frequency, 'rosja').most_common(10):\n",
    "     print word[0],word[1]"
   ]
  },
  {
   "cell_type": "code",
   "execution_count": 41,
   "metadata": {},
   "outputs": [
    {
     "name": "stdout",
     "output_type": "stream",
     "text": [
      "przyjaźni 15.9376218581\n",
      "służyć 12.1956032512\n",
      "cudowny 11.1632540027\n",
      "mogącej 11.1632540027\n",
      "przyjaciół 10.6827772145\n",
      "przykład 8.70528737972\n",
      "najważniejszych 6.76089785056\n",
      "izraela 5.50938745164\n",
      "strefy 3.10480072152\n",
      "mówił 2.93238443662\n"
     ]
    }
   ],
   "source": [
    "for word in find_strenght(pairs_frequency, 'niemcy').most_common(10):\n",
    "    print word[0],word[1]"
   ]
  },
  {
   "cell_type": "code",
   "execution_count": 42,
   "metadata": {},
   "outputs": [
    {
     "name": "stdout",
     "output_type": "stream",
     "text": [
      "wyrównywaæ 4.72291515498\n",
      "groźby 4.72291515498\n",
      "mogącej 4.72291515498\n",
      "wspaniałą 4.72291515498\n",
      "spowodować 4.26739710674\n",
      "wybuch 3.39098909164\n",
      "szansę 2.94956483072\n",
      "braku 2.76917370155\n",
      "uwolniæ 2.38363636371\n",
      "świat 2.33089469108\n"
     ]
    }
   ],
   "source": [
    "for word in find_strenght(pairs_frequency, 'polityka').most_common(10):\n",
    "    print word[0],word[1]"
   ]
  },
  {
   "cell_type": "code",
   "execution_count": 48,
   "metadata": {
    "collapsed": true
   },
   "outputs": [],
   "source": [
    "for word in find_strenght(pairs_frequency, u'mas\\u0142o').most_common(10):\n",
    "    print word[0],word[1]"
   ]
  },
  {
   "cell_type": "code",
   "execution_count": 44,
   "metadata": {},
   "outputs": [
    {
     "name": "stdout",
     "output_type": "stream",
     "text": [
      "dawka 1.22597091217\n",
      "trzydziestu 0.858711846359\n",
      "witaminą 0.858711846359\n",
      "spożyciu 0.858711846359\n",
      "tabletka 0.858711846359\n",
      "wywoływało 0.858711846359\n",
      "witaminę 0.858711846359\n",
      "zwiększonej 0.858711846359\n",
      "pożywienia 0.858711846359\n",
      "bogaty 0.82175209342\n"
     ]
    }
   ],
   "source": [
    "for word in find_strenght(pairs_frequency, 'jedzenie').most_common(10):\n",
    "    print word[0],word[1]"
   ]
  },
  {
   "cell_type": "code",
   "execution_count": 45,
   "metadata": {},
   "outputs": [
    {
     "name": "stdout",
     "output_type": "stream",
     "text": [
      "procesy 2.4197908888\n",
      "pustynia 2.4197908888\n",
      "ofiarę 2.14544909629\n",
      "egipcie 1.93790879446\n",
      "zasypującej 1.50274573113\n",
      "oazę 1.50274573113\n",
      "charga 1.50274573113\n",
      "badała 1.50274573113\n",
      "zachodzące 1.50274573113\n",
      "bóstwo 1.50274573113\n"
     ]
    }
   ],
   "source": [
    "for word in find_strenght(pairs_frequency, 'chleb').most_common(10):\n",
    "    print word[0],word[1]"
   ]
  },
  {
   "cell_type": "code",
   "execution_count": 46,
   "metadata": {},
   "outputs": [
    {
     "name": "stdout",
     "output_type": "stream",
     "text": [
      "poważniejszych 0.644033884769\n",
      "uchwaliła 0.612985456083\n",
      "taksówką 0.42935592318\n",
      "taksówkowy 0.42935592318\n",
      "zobowiązała 0.42935592318\n",
      "usługi 0.334818745374\n",
      "maksymalny 0.320856474391\n",
      "ortopedyczny 0.21467796159\n",
      "ortopeda 0.21467796159\n",
      "warszawy 0.127205878112\n"
     ]
    }
   ],
   "source": [
    "for word in find_strenght(pairs_frequency, 'powszedni').most_common(10):\n",
    "    print word[0],word[1]"
   ]
  },
  {
   "cell_type": "code",
   "execution_count": null,
   "metadata": {
    "collapsed": true
   },
   "outputs": [],
   "source": []
  }
 ],
 "metadata": {
  "kernelspec": {
   "display_name": "Python 2",
   "language": "python",
   "name": "python2"
  },
  "language_info": {
   "codemirror_mode": {
    "name": "ipython",
    "version": 2
   },
   "file_extension": ".py",
   "mimetype": "text/x-python",
   "name": "python",
   "nbconvert_exporter": "python",
   "pygments_lexer": "ipython2",
   "version": "2.7.14"
  }
 },
 "nbformat": 4,
 "nbformat_minor": 2
}
